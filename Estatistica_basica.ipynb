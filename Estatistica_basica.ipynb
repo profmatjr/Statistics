{
  "nbformat": 4,
  "nbformat_minor": 0,
  "metadata": {
    "colab": {
      "provenance": []
    },
    "kernelspec": {
      "name": "python3",
      "display_name": "Python 3"
    },
    "language_info": {
      "name": "python"
    }
  },
  "cells": [
    {
      "cell_type": "markdown",
      "source": [
        "# Estatística Básica com Python - Introdução"
      ],
      "metadata": {
        "id": "fTcsRQeJzjem"
      }
    },
   
    {
      "cell_type": "code",
      "source": [
        "import pandas as pd\n",
        "import numpy as np\n",
        "import matplotlib.pyplot as plt\n",
        "import seaborn as sns"
      ],
      "metadata": {
        "id": "P99JKzpZzsMM"
      },
      "execution_count": null,
      "outputs": []
    },
    {
      "cell_type": "markdown",
      "source": [
        "\n",
        "\n",
        "1.   Obter os dados\n",
        "\n"
      ],
      "metadata": {
        "id": "lrf-wVTj0l-n"
      }
    },
    {
      "cell_type": "code",
      "source": [
        "dados = pd.Series(np.random.normal(loc=50, scale=10, size=1000))\n",
        ],
      "metadata": {
        "id": "GWmTLZ4K0szE"
      },
      "execution_count": null,
      "outputs": []
    },
    {
      "cell_type": "code",
      "source": [
        "print('Alguns dados:\n')".
        "print(dados.head())",
        "print('\t\t.\n\t\t.\n\t\t.\n')",
        "print(dados.tail())"
      ],
      "metadata": {
        "colab": {
          "base_uri": "https://localhost:8080/"
        },
        "id": "r6cxDjV0lKia",
        "outputId": "dfcfea4a-1dc6-43bc-95cb-e0383a8557a3"
      },
      "execution_count": null,
      "outputs": [
        {
          "output_type": "stream",
          "name": "stdout",
          "text": [
            "37.638056344023376\n"
          ]
        }
      ]
    },
    {
      "cell_type": "markdown",
      "source": [
        "\n",
        "Medidas de Tendência Central:"
      ],
      "metadata": {
        "id": "lF98SXBN2PvU"
      }
    },
    {
      "cell_type": "code",
      "source": [
        "media = dados.mean()\n",
        "mediana = dados.median()\n",
        "moda = dados.mode()[0]"
      ],
      "metadata": {
        "id": "x1LvATG32WcI"
      },
      "execution_count": null,
      "outputs": []
    },
  
    {
      "cell_type": "code",
      "source": [
        "print(f'Media: {media}')\n",
        "print(f'Mediana: {mediana}')\n",
        "print(f'Moda: {moda}')"
      ],
      "metadata": {
        "colab": {
          "base_uri": "https://localhost:8080/"
        },
        "id": "Qx9uF9VLBzUq",
        "outputId": "de904828-78e2-4f21-83b2-45d02fa9cc49"
      },
    {
      "cell_type": "markdown",
      "source": [
        "# Gráficos Estatísticos"
      ],
      "metadata": {
        "id": "MAg6nJlwCfe4"
      }
    },
    {
      "cell_type": "markdown",
      "source": [
        "Gráfico de Pizza:"
      ],
      "metadata": {
        "id": "3IrINNh3DBvZ"
      }
    },
    {
      "cell_type": "code",
      "source": [
        "plt.figure(figsize=(8, 6))\n",
        "plt.pie([dados[dados < 50].count(), dados[dados >= 50].count()], labels=['Menor que 50','Maior ou igual a 50'], autopct='%1.1f%%', colors=['blue', 'orange'])\n",
        "plt.title('Gráfico de Pizza')\n",
        "plt.show()"
      ],
      "metadata": {
        "colab": {
          "base_uri": "https://localhost:8080/",
          "height": 521
        },
        "id": "EGt5vmlNDGbs",
        "outputId": "67447aa0-7a96-4ad3-cf6e-2420abad8be3"
      },
      
    {
      "cell_type": "markdown",
      "source": [
        "Histograma:"
      ],
      "metadata": {
        "id": "YPfzpN0OCjya"
      }
    },
    {
      "cell_type": "code",
      "source": [
        "plt.figure(figsize=(10, 5))\n",
        "sns.histplot(dados, bins=60, kde=True, color='blue', edgecolor='black')\n",
        "plt.title('Histograma dos Dados')\n",
        "plt.xlabel('Valor')\n",
        "plt.ylabel('Frequência')\n",
        "plt.grid(True)\n",
        "plt.show()"
      ],
      "metadata": {
        "colab": {
          "base_uri": "https://localhost:8080/",
          "height": 468
        },
      
    {
      "cell_type": "markdown",
      "source": [
        "Gráfico de Densidade:"
      ],
      "metadata": {
        "id": "8GKv61dQKtvL"
      }
    },
    {
      "cell_type": "code",
      "source": [
        "plt.figure(figsize=(10, 5))\n",
        "sns.kdeplot(dados, color='blue')\n",
        "plt.title('Gráfico de Densidade')\n",
        "plt.xlabel('Valor')\n",
        "plt.ylabel('Densidade')\n",
        "plt.grid(True)\n",
        "plt.show()"
      ],
      "metadata": {
        "colab": {
          "base_uri": "https://localhost:8080/",
          "height": 452
        },
      
    {
      "cell_type": "markdown",
      "source": [
        "Boxplot:"
      ],
      "metadata": {
        "id": "Qf4T_fliK5R4"
      }
    },
    {
      "cell_type": "code",
      "source": [
        "plt.figure(figsize=(8, 5))\n",
        "dados_boxplot = [1,3,4,4,5,9,7,8,13,14,16,22,31,29]\n",
        "sns.boxplot(data=dados_boxplot, orient='v')\n",
        "plt.title('Box Plot')\n",
        "plt.xlabel('Valor')\n",
        "plt.grid(True)\n",
        "plt.show()"
      ],
      "metadata": {
        "colab": {
          "base_uri": "https://localhost:8080/",
          "height": 473
        },
    
          "metadata": {}
        }
      ]
    }
  ]
}
